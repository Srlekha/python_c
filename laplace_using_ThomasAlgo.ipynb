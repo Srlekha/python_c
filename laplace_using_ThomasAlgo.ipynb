{
 "cells": [
  {
   "cell_type": "code",
   "execution_count": 1,
   "metadata": {},
   "outputs": [],
   "source": [
    "import numpy as np\n",
    "import matplotlib.pyplot as plt\n",
    "from ipynb.fs.full.Thomas_Algo_new import ThomasAlgorithm,create_tridiagonal"
   ]
  },
  {
   "cell_type": "code",
   "execution_count": 2,
   "metadata": {},
   "outputs": [],
   "source": [
    "def create_matrix_1(y,x,**kwargs):\n",
    "    args=kwargs['args']\n",
    "\n",
    "    Nx=len(x)\n",
    "    dx=x[1]-x[0]\n",
    "    a=np.zeros(len(x))\n",
    "    b=np.zeros(len(x))\n",
    "    c=np.zeros(len(x))\n",
    "    d=np.zeros(len(x))\n",
    "    for n in range(1,Nx-1,1):\n",
    "        a[n]=1\n",
    "        b[n]=-2\n",
    "        c[n]=1\n",
    "        d[n]=(dx**2)*np.exp(-x[n]**2)\n",
    "    return a,b,c,d"
   ]
  },
  {
   "cell_type": "code",
   "execution_count": 3,
   "metadata": {},
   "outputs": [],
   "source": [
    "Nx=100\n",
    "x =np.linspace(0,100,Nx)\n",
    "t =np.linspace(0,1,10)\n",
    "sol =np.zeros(len(x))\n",
    "sol[0] =0\n",
    "sol[-1]=10\n",
    "sol= ThomasAlgorithm(create_matrix_1,sol,x,args=(),Left='Dirichlet',Right='Dirichlet')\n",
    "#print(sol)"
   ]
  },
  {
   "cell_type": "code",
   "execution_count": 4,
   "metadata": {},
   "outputs": [
    {
     "data": {
      "text/plain": [
       "[<matplotlib.lines.Line2D at 0x1d286a40be0>]"
      ]
     },
     "execution_count": 4,
     "metadata": {},
     "output_type": "execute_result"
    },
    {
     "data": {
      "image/png": "[encoded data removed]",
      "text/plain": [
       "<Figure size 432x288 with 1 Axes>"
      ]
     },
     "metadata": {
      "needs_background": "light"
     },
     "output_type": "display_data"
    }
   ],
   "source": [
    "plt.plot(x,sol)"
   ]
  },
  {
   "cell_type": "code",
   "execution_count": null,
   "metadata": {},
   "outputs": [],
   "source": []
  }
 ],
 "metadata": {
  "kernelspec": {
   "display_name": "Python 3",
   "language": "python",
   "name": "python3"
  },
  "language_info": {
   "codemirror_mode": {
    "name": "ipython",
    "version": 3
   },
   "file_extension": ".py",
   "mimetype": "text/x-python",
   "name": "python",
   "nbconvert_exporter": "python",
   "pygments_lexer": "ipython3",
   "version": "3.8.5"
  }
 },
 "nbformat": 4,
 "nbformat_minor": 4
}
