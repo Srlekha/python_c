{
 "cells": [
  {
   "cell_type": "markdown",
   "metadata": {},
   "source": [
    "Consider a coordinate system N.Suppose we want to define a new system M, whose origin is located at 3i +4j+5k \n",
    "from N’s origin.In other words, the coordinates of M’s origin from N’s perspective happen to be (3,4,5).Moreover,this would also mean that the coordinates of ’s origin with respect to  would be (-3,-4,-5)."
   ]
  },
  {
   "cell_type": "code",
   "execution_count": 1,
   "metadata": {},
   "outputs": [],
   "source": [
    "from sympy.vector import CoordSys3D\n",
    "N = CoordSys3D('N')\n",
    "M = N.locate_new('M', 3*N.i + 4*N.j + 5*N.k)"
   ]
  },
  {
   "cell_type": "code",
   "execution_count": 2,
   "metadata": {},
   "outputs": [
    {
     "data": {
      "text/latex": [
       "$\\displaystyle (3)\\mathbf{\\hat{i}_{N}} + (4)\\mathbf{\\hat{j}_{N}} + (5)\\mathbf{\\hat{k}_{N}}$"
      ],
      "text/plain": [
       "3*N.i + 4*N.j + 5*N.k"
      ]
     },
     "execution_count": 2,
     "metadata": {},
     "output_type": "execute_result"
    }
   ],
   "source": [
    "M.position_wrt(N)"
   ]
  },
  {
   "cell_type": "code",
   "execution_count": 3,
   "metadata": {},
   "outputs": [
    {
     "data": {
      "text/plain": [
       "(-3, -4, -5)"
      ]
     },
     "execution_count": 3,
     "metadata": {},
     "output_type": "execute_result"
    }
   ],
   "source": [
    "N.origin.express_coordinates(M)"
   ]
  },
  {
   "cell_type": "markdown",
   "metadata": {},
   "source": [
    "Orienting new systems"
   ]
  },
  {
   "attachments": {
    "image.png": {
     "image/png": "[encoded data removed]"
    }
   },
   "cell_type": "markdown",
   "metadata": {},
   "source": [
    "Similar to ‘locating’ new systems, sympy.vector also allows for initialization of new CoordSys3D instances \n",
    "that are oriented in user-defined ways with respect to existing systems.\n",
    "Suppose you have a coordinate system A.You want to initialize a new coordinate system B, that is rotated with respect to A’s Z-axis by an angle \\theta\n",
    "![image.png](attachment:image.png)"
   ]
  },
  {
   "cell_type": "code",
   "execution_count": 4,
   "metadata": {},
   "outputs": [],
   "source": [
    "from sympy.vector import CoordSys3D\n",
    "from sympy import Symbol\n",
    "\n",
    "A = CoordSys3D('A')\n",
    "theta = Symbol('theta')"
   ]
  },
  {
   "cell_type": "code",
   "execution_count": 5,
   "metadata": {},
   "outputs": [],
   "source": [
    "##Method 1 : Using a method of CoordSys3D directly . a)orient_new_axis, b)orient_new_body, c)orient_new_space,  d)orient_new_quaternion\n",
    "B = A.orient_new_axis('B', theta, A.k)"
   ]
  },
  {
   "cell_type": "code",
   "execution_count": 6,
   "metadata": {},
   "outputs": [],
   "source": [
    "## MEthod 2:  \n",
    "#You would first have to initialize an AxisOrienter instance for storing the rotation information.\n",
    "#And then apply it using the orient_new method, to obtain B.\n",
    "from sympy.vector import AxisOrienter\n",
    "axis_orienter = AxisOrienter(theta, A.k)\n",
    "B = A.orient_new('B', axis_orienter)"
   ]
  },
  {
   "cell_type": "markdown",
   "metadata": {},
   "source": [
    "orient_new also lets you orient new systems using multiple Orienter instances, provided in an iterable. The rotations/orientations are applied to the new system in the order the Orienter instances appear in the iterable."
   ]
  },
  {
   "cell_type": "code",
   "execution_count": 7,
   "metadata": {},
   "outputs": [],
   "source": [
    "from sympy.vector import BodyOrienter\n",
    "from sympy.abc import a, b, c\n",
    "body_orienter = BodyOrienter(a, b, c, 'XYZ')\n",
    "C = A.orient_new('C', (axis_orienter, body_orienter))"
   ]
  },
  {
   "cell_type": "markdown",
   "metadata": {},
   "source": [
    "In each of the above examples, the origin of the new coordinate system coincides with the origin of the ‘parent’ system."
   ]
  },
  {
   "cell_type": "code",
   "execution_count": 8,
   "metadata": {},
   "outputs": [
    {
     "data": {
      "text/latex": [
       "$\\displaystyle \\mathbf{\\hat{0}}$"
      ],
      "text/plain": [
       "0"
      ]
     },
     "execution_count": 8,
     "metadata": {},
     "output_type": "execute_result"
    }
   ],
   "source": [
    "B.position_wrt(A)"
   ]
  },
  {
   "cell_type": "markdown",
   "metadata": {},
   "source": [
    "To compute the rotation matrix of any coordinate system with respect to another one, use the rotation_matrix method."
   ]
  },
  {
   "cell_type": "code",
   "execution_count": 9,
   "metadata": {},
   "outputs": [
    {
     "data": {
      "text/latex": [
       "$\\displaystyle \\left[\\begin{matrix}\\cos{\\left(a \\right)} & \\sin{\\left(a \\right)} & 0\\\\- \\sin{\\left(a \\right)} & \\cos{\\left(a \\right)} & 0\\\\0 & 0 & 1\\end{matrix}\\right]$"
      ],
      "text/plain": [
       "Matrix([\n",
       "[ cos(a), sin(a), 0],\n",
       "[-sin(a), cos(a), 0],\n",
       "[      0,      0, 1]])"
      ]
     },
     "execution_count": 9,
     "metadata": {},
     "output_type": "execute_result"
    }
   ],
   "source": [
    "B = A.orient_new_axis('B', a,A.k) #A.k is axis\n",
    "B.rotation_matrix(A)\n",
    "#B.rotation_matrix(B)"
   ]
  },
  {
   "cell_type": "markdown",
   "metadata": {},
   "source": [
    "Orienting AND Locating new systems\n",
    "\n",
    "orientation methods also act as methods to support orientation+ location of the new systems."
   ]
  },
  {
   "cell_type": "code",
   "execution_count": 10,
   "metadata": {},
   "outputs": [
    {
     "data": {
      "text/latex": [
       "$\\displaystyle (2)\\mathbf{\\hat{j}_{A}}$"
      ],
      "text/plain": [
       "2*A.j"
      ]
     },
     "execution_count": 10,
     "metadata": {},
     "output_type": "execute_result"
    }
   ],
   "source": [
    "C = A.orient_new_axis('C', a, A.k, location=2*A.j)\n",
    "C.position_wrt(A)"
   ]
  },
  {
   "cell_type": "code",
   "execution_count": 11,
   "metadata": {},
   "outputs": [
    {
     "data": {
      "text/latex": [
       "$\\displaystyle (- 2 \\sin{\\left(a \\right)})\\mathbf{\\hat{i}_{C}} + (- 2 \\cos{\\left(a \\right)})\\mathbf{\\hat{j}_{C}}$"
      ],
      "text/plain": [
       "(-2*sin(a))*C.i + (-2*cos(a))*C.j"
      ]
     },
     "execution_count": 11,
     "metadata": {},
     "output_type": "execute_result"
    }
   ],
   "source": [
    "from sympy.vector import express\n",
    "express(A.position_wrt(C), C)"
   ]
  },
  {
   "cell_type": "markdown",
   "metadata": {},
   "source": [
    "Transforming new system"
   ]
  },
  {
   "cell_type": "code",
   "execution_count": 12,
   "metadata": {},
   "outputs": [],
   "source": [
    "from sympy.vector import CoordSys3D\n",
    "from sympy import sin, cos\n",
    "A = CoordSys3D('A', transformation='spherical')\n",
    "B = CoordSys3D('A', transformation=lambda x,y,z: (x*sin(y), x*cos(y), z))"
   ]
  },
  {
   "cell_type": "code",
   "execution_count": 13,
   "metadata": {},
   "outputs": [],
   "source": [
    "##(or) Methpd 2\n",
    "from sympy.vector import CoordSys3D\n",
    "A = CoordSys3D('A')\n",
    "B = A.create_new('B', transformation='spherical')"
   ]
  },
  {
   "cell_type": "markdown",
   "metadata": {},
   "source": [
    "Expression of quantities in different coordinate systems"
   ]
  },
  {
   "cell_type": "code",
   "execution_count": 14,
   "metadata": {},
   "outputs": [],
   "source": [
    "from sympy.vector import CoordSys3D, express\n",
    "from sympy.abc import a, b, c\n",
    "N = CoordSys3D('N')\n",
    "M = N.orient_new_axis('M', a, N.k)"
   ]
  },
  {
   "cell_type": "code",
   "execution_count": 15,
   "metadata": {},
   "outputs": [
    {
     "data": {
      "text/latex": [
       "$\\displaystyle (\\sin{\\left(a \\right)} + \\cos{\\left(a \\right)})\\mathbf{\\hat{i}_{M}} + (- \\sin{\\left(a \\right)} + \\cos{\\left(a \\right)})\\mathbf{\\hat{j}_{M}} + \\mathbf{\\hat{k}_{M}}$"
      ],
      "text/plain": [
       "(sin(a) + cos(a))*M.i + (-sin(a) + cos(a))*M.j + M.k"
      ]
     },
     "execution_count": 15,
     "metadata": {},
     "output_type": "execute_result"
    }
   ],
   "source": [
    "v1 = N.i + N.j + N.k\n",
    "express(v1, M)"
   ]
  },
  {
   "cell_type": "code",
   "execution_count": 16,
   "metadata": {},
   "outputs": [
    {
     "data": {
      "text/latex": [
       "$\\displaystyle (1 - \\sin{\\left(a \\right)})\\mathbf{\\hat{i}_{N}} + (\\cos{\\left(a \\right)})\\mathbf{\\hat{j}_{N}}$"
      ],
      "text/plain": [
       "(1 - sin(a))*N.i + (cos(a))*N.j"
      ]
     },
     "execution_count": 16,
     "metadata": {},
     "output_type": "execute_result"
    }
   ],
   "source": [
    "v2 = N.i + M.j\n",
    "express(v2, N)"
   ]
  },
  {
   "attachments": {
    "image.png": {
     "image/png": "[encoded data removed]"
    }
   },
   "cell_type": "markdown",
   "metadata": {},
   "source": [
    "Coordinate Variables\n",
    "![image.png](attachment:image.png)\n"
   ]
  },
  {
   "cell_type": "code",
   "execution_count": 17,
   "metadata": {},
   "outputs": [
    {
     "data": {
      "text/latex": [
       "$\\displaystyle \\mathbf{{x}_{R}} + \\mathbf{{y}_{R}} + \\mathbf{{z}_{R}} + 6$"
      ],
      "text/plain": [
       "R.x + R.y + R.z + 6"
      ]
     },
     "execution_count": 17,
     "metadata": {},
     "output_type": "execute_result"
    }
   ],
   "source": [
    "R = N.locate_new('R', N.i + 2*N.j + 3*N.k)\n",
    "T_N = N.x + N.y + N.z\n",
    "express(T_N, R, variables=True)"
   ]
  },
  {
   "attachments": {
    "image.png": {
     "image/png": "[encoded data removed]"
    }
   },
   "cell_type": "markdown",
   "metadata": {},
   "source": [
    "![image.png](attachment:image.png)"
   ]
  },
  {
   "cell_type": "code",
   "execution_count": 18,
   "metadata": {},
   "outputs": [
    {
     "data": {
      "text/plain": [
       "(a + 1, b + 2, c + 3)"
      ]
     },
     "execution_count": 18,
     "metadata": {},
     "output_type": "execute_result"
    }
   ],
   "source": [
    "P = R.origin.locate_new('P', a*R.i + b*R.j + c*R.k)\n",
    "P.express_coordinates(N)"
   ]
  },
  {
   "cell_type": "code",
   "execution_count": 19,
   "metadata": {},
   "outputs": [
    {
     "data": {
      "text/plain": [
       "(a, b, c)"
      ]
     },
     "execution_count": 19,
     "metadata": {},
     "output_type": "execute_result"
    }
   ],
   "source": [
    "P.express_coordinates(R)"
   ]
  },
  {
   "cell_type": "code",
   "execution_count": 20,
   "metadata": {},
   "outputs": [
    {
     "data": {
      "text/latex": [
       "$\\displaystyle \\left[\\begin{matrix}\\sin{\\left(a \\right)} + \\cos{\\left(a \\right)}\\\\- \\sin{\\left(a \\right)} + \\cos{\\left(a \\right)}\\\\1\\end{matrix}\\right]$"
      ],
      "text/plain": [
       "Matrix([\n",
       "[ sin(a) + cos(a)],\n",
       "[-sin(a) + cos(a)],\n",
       "[               1]])"
      ]
     },
     "execution_count": 20,
     "metadata": {},
     "output_type": "execute_result"
    }
   ],
   "source": [
    "v = N.i + N.j + N.k\n",
    "v.to_matrix(M)"
   ]
  },
  {
   "cell_type": "code",
   "execution_count": 21,
   "metadata": {},
   "outputs": [
    {
     "data": {
      "text/latex": [
       "$\\displaystyle \\left[\\begin{matrix}1\\\\1\\\\1\\end{matrix}\\right]$"
      ],
      "text/plain": [
       "Matrix([\n",
       "[1],\n",
       "[1],\n",
       "[1]])"
      ]
     },
     "execution_count": 21,
     "metadata": {},
     "output_type": "execute_result"
    }
   ],
   "source": [
    "v.to_matrix(N)"
   ]
  },
  {
   "cell_type": "markdown",
   "metadata": {},
   "source": [
    "Scalar and Vector Field Functionality"
   ]
  },
  {
   "attachments": {
    "image.png": {
     "image/png": "[encoded data removed]"
    }
   },
   "cell_type": "markdown",
   "metadata": {},
   "source": [
    "![image.png](attachment:image.png)"
   ]
  },
  {
   "cell_type": "code",
   "execution_count": 22,
   "metadata": {},
   "outputs": [],
   "source": [
    "from sympy.vector import CoordSys3D\n",
    "R = CoordSys3D('R')\n",
    "v = 3*R.i + 4*R.j + 5*R.k"
   ]
  },
  {
   "cell_type": "code",
   "execution_count": 23,
   "metadata": {},
   "outputs": [
    {
     "data": {
      "text/latex": [
       "$\\displaystyle 2 \\mathbf{{x}_{R}}^{2} \\mathbf{{y}_{R}}$"
      ],
      "text/plain": [
       "2*R.x**2*R.y"
      ]
     },
     "execution_count": 23,
     "metadata": {},
     "output_type": "execute_result"
    }
   ],
   "source": [
    "from sympy.vector import CoordSys3D\n",
    "R = CoordSys3D('R')\n",
    "electric_potential = 2*R.x**2*R.y\n",
    "electric_potential"
   ]
  },
  {
   "cell_type": "code",
   "execution_count": 24,
   "metadata": {},
   "outputs": [
    {
     "data": {
      "text/latex": [
       "$\\displaystyle 4 \\mathbf{{x}_{R}} \\mathbf{{y}_{R}}$"
      ],
      "text/plain": [
       "4*R.x*R.y"
      ]
     },
     "execution_count": 24,
     "metadata": {},
     "output_type": "execute_result"
    }
   ],
   "source": [
    "from sympy import diff\n",
    "diff(electric_potential, R.x)"
   ]
  },
  {
   "cell_type": "code",
   "execution_count": 25,
   "metadata": {},
   "outputs": [],
   "source": [
    "from sympy.vector import CoordSys3D\n",
    "R = CoordSys3D('R')\n",
    "v = R.x**2*R.i + 2*R.x*R.z*R.k # variation with position"
   ]
  },
  {
   "attachments": {
    "image.png": {
     "image/png": "[encoded data removed]"
    }
   },
   "cell_type": "markdown",
   "metadata": {},
   "source": [
    "The Del operator\n",
    "![image.png](attachment:image.png)"
   ]
  },
  {
   "cell_type": "code",
   "execution_count": 26,
   "metadata": {},
   "outputs": [
    {
     "data": {
      "text/latex": [
       "$\\displaystyle (\\mathbf{{y}_{C}} \\mathbf{{z}_{C}})\\mathbf{\\hat{i}_{C}} + (\\mathbf{{x}_{C}} \\mathbf{{z}_{C}})\\mathbf{\\hat{j}_{C}} + (\\mathbf{{x}_{C}} \\mathbf{{y}_{C}})\\mathbf{\\hat{k}_{C}}$"
      ],
      "text/plain": [
       "C.y*C.z*C.i + C.x*C.z*C.j + C.x*C.y*C.k"
      ]
     },
     "execution_count": 26,
     "metadata": {},
     "output_type": "execute_result"
    }
   ],
   "source": [
    "from sympy.vector import CoordSys3D, Del\n",
    "C = CoordSys3D('C')\n",
    "delop = Del()\n",
    "gradient_field = delop(C.x*C.y*C.z)\n",
    "gradient_field.simplify()"
   ]
  },
  {
   "cell_type": "markdown",
   "metadata": {},
   "source": [
    "Field operators and related functions"
   ]
  },
  {
   "cell_type": "code",
   "execution_count": 27,
   "metadata": {},
   "outputs": [
    {
     "data": {
      "text/latex": [
       "$\\displaystyle (\\mathbf{{x}_{C}} \\mathbf{{y}_{C}})\\mathbf{\\hat{j}_{C}} + (- \\mathbf{{x}_{C}} \\mathbf{{z}_{C}})\\mathbf{\\hat{k}_{C}}$"
      ],
      "text/plain": [
       "C.x*C.y*C.j + (-C.x*C.z)*C.k"
      ]
     },
     "execution_count": 27,
     "metadata": {},
     "output_type": "execute_result"
    }
   ],
   "source": [
    "from sympy.vector import CoordSys3D, Del\n",
    "C = CoordSys3D('C')\n",
    "delop = Del()\n",
    "delop.cross(C.x*C.y*C.z*C.i).doit()"
   ]
  },
  {
   "cell_type": "code",
   "execution_count": 28,
   "metadata": {},
   "outputs": [
    {
     "data": {
      "text/latex": [
       "$\\displaystyle (\\mathbf{{x}_{C}} \\mathbf{{y}_{C}})\\mathbf{\\hat{j}_{C}} + (- \\mathbf{{x}_{C}} \\mathbf{{z}_{C}})\\mathbf{\\hat{k}_{C}}$"
      ],
      "text/plain": [
       "C.x*C.y*C.j + (-C.x*C.z)*C.k"
      ]
     },
     "execution_count": 28,
     "metadata": {},
     "output_type": "execute_result"
    }
   ],
   "source": [
    "(delop ^ C.x*C.y*C.z*C.i).doit()"
   ]
  },
  {
   "cell_type": "code",
   "execution_count": 29,
   "metadata": {},
   "outputs": [
    {
     "data": {
      "text/latex": [
       "$\\displaystyle (\\mathbf{{x}_{C}} \\mathbf{{y}_{C}})\\mathbf{\\hat{j}_{C}} + (- \\mathbf{{x}_{C}} \\mathbf{{z}_{C}})\\mathbf{\\hat{k}_{C}}$"
      ],
      "text/plain": [
       "C.x*C.y*C.j + (-C.x*C.z)*C.k"
      ]
     },
     "execution_count": 29,
     "metadata": {},
     "output_type": "execute_result"
    }
   ],
   "source": [
    "#Method 2:\n",
    "from sympy.vector import curl\n",
    "curl(C.x*C.y*C.z*C.i)"
   ]
  },
  {
   "cell_type": "markdown",
   "metadata": {},
   "source": [
    "Divergence"
   ]
  },
  {
   "cell_type": "code",
   "execution_count": 30,
   "metadata": {},
   "outputs": [
    {
     "data": {
      "text/latex": [
       "$\\displaystyle \\mathbf{{x}_{C}} \\mathbf{{y}_{C}} + \\mathbf{{x}_{C}} \\mathbf{{z}_{C}} + \\mathbf{{y}_{C}} \\mathbf{{z}_{C}}$"
      ],
      "text/plain": [
       "C.x*C.y + C.x*C.z + C.y*C.z"
      ]
     },
     "execution_count": 30,
     "metadata": {},
     "output_type": "execute_result"
    }
   ],
   "source": [
    "from sympy.vector import CoordSys3D, Del\n",
    "C = CoordSys3D('C')\n",
    "delop = Del()\n",
    "delop.dot(C.x*C.y*C.z*(C.i + C.j + C.k)).doit()"
   ]
  },
  {
   "cell_type": "code",
   "execution_count": 31,
   "metadata": {},
   "outputs": [
    {
     "data": {
      "text/latex": [
       "$\\displaystyle \\mathbf{{x}_{C}} \\mathbf{{y}_{C}} + \\mathbf{{x}_{C}} \\mathbf{{z}_{C}} + \\mathbf{{y}_{C}} \\mathbf{{z}_{C}}$"
      ],
      "text/plain": [
       "C.x*C.y + C.x*C.z + C.y*C.z"
      ]
     },
     "execution_count": 31,
     "metadata": {},
     "output_type": "execute_result"
    }
   ],
   "source": [
    "(delop & C.x*C.y*C.z*(C.i + C.j + C.k)).doit()"
   ]
  },
  {
   "cell_type": "code",
   "execution_count": 32,
   "metadata": {},
   "outputs": [
    {
     "data": {
      "text/latex": [
       "$\\displaystyle \\mathbf{{x}_{C}} \\mathbf{{y}_{C}} + \\mathbf{{x}_{C}} \\mathbf{{z}_{C}} + \\mathbf{{y}_{C}} \\mathbf{{z}_{C}}$"
      ],
      "text/plain": [
       "C.x*C.y + C.x*C.z + C.y*C.z"
      ]
     },
     "execution_count": 32,
     "metadata": {},
     "output_type": "execute_result"
    }
   ],
   "source": [
    "#Method 2\n",
    "from sympy.vector import divergence\n",
    "divergence(C.x*C.y*C.z*(C.i + C.j + C.k))"
   ]
  },
  {
   "cell_type": "markdown",
   "metadata": {},
   "source": [
    "Gradient"
   ]
  },
  {
   "cell_type": "code",
   "execution_count": 33,
   "metadata": {},
   "outputs": [
    {
     "data": {
      "text/latex": [
       "$\\displaystyle (\\mathbf{{y}_{C}} \\mathbf{{z}_{C}})\\mathbf{\\hat{i}_{C}} + (\\mathbf{{x}_{C}} \\mathbf{{z}_{C}})\\mathbf{\\hat{j}_{C}} + (\\mathbf{{x}_{C}} \\mathbf{{y}_{C}})\\mathbf{\\hat{k}_{C}}$"
      ],
      "text/plain": [
       "C.y*C.z*C.i + C.x*C.z*C.j + C.x*C.y*C.k"
      ]
     },
     "execution_count": 33,
     "metadata": {},
     "output_type": "execute_result"
    }
   ],
   "source": [
    "from sympy.vector import CoordSys3D, Del\n",
    "C = CoordSys3D('C')\n",
    "delop = Del()\n",
    "delop.gradient(C.x*C.y*C.z).doit()"
   ]
  },
  {
   "cell_type": "code",
   "execution_count": 34,
   "metadata": {},
   "outputs": [
    {
     "data": {
      "text/latex": [
       "$\\displaystyle (\\mathbf{{y}_{C}} \\mathbf{{z}_{C}})\\mathbf{\\hat{i}_{C}} + (\\mathbf{{x}_{C}} \\mathbf{{z}_{C}})\\mathbf{\\hat{j}_{C}} + (\\mathbf{{x}_{C}} \\mathbf{{y}_{C}})\\mathbf{\\hat{k}_{C}}$"
      ],
      "text/plain": [
       "C.y*C.z*C.i + C.x*C.z*C.j + C.x*C.y*C.k"
      ]
     },
     "execution_count": 34,
     "metadata": {},
     "output_type": "execute_result"
    }
   ],
   "source": [
    "delop(C.x*C.y*C.z).doit()"
   ]
  },
  {
   "cell_type": "code",
   "execution_count": 35,
   "metadata": {},
   "outputs": [
    {
     "data": {
      "text/latex": [
       "$\\displaystyle (\\mathbf{{y}_{C}} \\mathbf{{z}_{C}})\\mathbf{\\hat{i}_{C}} + (\\mathbf{{x}_{C}} \\mathbf{{z}_{C}})\\mathbf{\\hat{j}_{C}} + (\\mathbf{{x}_{C}} \\mathbf{{y}_{C}})\\mathbf{\\hat{k}_{C}}$"
      ],
      "text/plain": [
       "C.y*C.z*C.i + C.x*C.z*C.j + C.x*C.y*C.k"
      ]
     },
     "execution_count": 35,
     "metadata": {},
     "output_type": "execute_result"
    }
   ],
   "source": [
    "#method 2\n",
    "from sympy.vector import gradient\n",
    "gradient(C.x*C.y*C.z)"
   ]
  },
  {
   "attachments": {
    "image.png": {
     "image/png": "[encoded data removed]"
    }
   },
   "cell_type": "markdown",
   "metadata": {},
   "source": [
    "Directional Derivative\n",
    "![image.png](attachment:image.png)"
   ]
  },
  {
   "cell_type": "code",
   "execution_count": 36,
   "metadata": {},
   "outputs": [
    {
     "data": {
      "text/latex": [
       "$\\displaystyle \\mathbf{{x}_{C}} \\mathbf{{y}_{C}} + \\mathbf{{x}_{C}} \\mathbf{{z}_{C}} + \\mathbf{{y}_{C}} \\mathbf{{z}_{C}}$"
      ],
      "text/plain": [
       "C.x*C.y + C.x*C.z + C.y*C.z"
      ]
     },
     "execution_count": 36,
     "metadata": {},
     "output_type": "execute_result"
    }
   ],
   "source": [
    "from sympy.vector import CoordSys3D, Del\n",
    "C = CoordSys3D('C')\n",
    "delop = Del()\n",
    "vel = C.i + C.j + C.k\n",
    "scalar_field = C.x*C.y*C.z\n",
    "vector_field = C.x*C.y*C.z*C.i\n",
    "(vel.dot(delop))(scalar_field)"
   ]
  },
  {
   "cell_type": "code",
   "execution_count": 37,
   "metadata": {},
   "outputs": [
    {
     "data": {
      "text/latex": [
       "$\\displaystyle (\\mathbf{{x}_{C}} \\mathbf{{y}_{C}} + \\mathbf{{x}_{C}} \\mathbf{{z}_{C}} + \\mathbf{{y}_{C}} \\mathbf{{z}_{C}})\\mathbf{\\hat{i}_{C}}$"
      ],
      "text/plain": [
       "(C.x*C.y + C.x*C.z + C.y*C.z)*C.i"
      ]
     },
     "execution_count": 37,
     "metadata": {},
     "output_type": "execute_result"
    }
   ],
   "source": [
    "(vel & delop)(vector_field)"
   ]
  },
  {
   "cell_type": "code",
   "execution_count": 38,
   "metadata": {},
   "outputs": [
    {
     "data": {
      "text/latex": [
       "$\\displaystyle \\mathbf{{x}_{C}} \\mathbf{{y}_{C}} + 4 \\mathbf{{x}_{C}} \\mathbf{{z}_{C}} + 3 \\mathbf{{y}_{C}} \\mathbf{{z}_{C}}$"
      ],
      "text/plain": [
       "C.x*C.y + 4*C.x*C.z + 3*C.y*C.z"
      ]
     },
     "execution_count": 38,
     "metadata": {},
     "output_type": "execute_result"
    }
   ],
   "source": [
    "#Method 2:\n",
    "from sympy.vector import directional_derivative\n",
    "directional_derivative(C.x*C.y*C.z, 3*C.i + 4*C.j + C.k)"
   ]
  },
  {
   "cell_type": "markdown",
   "metadata": {},
   "source": [
    "Field operator in orthogonal curvilinear coordinate system\n",
    "\n",
    "vector package supports calculation in different kind of orthogonal curvilinear coordinate system. To do that, scaling factor (also known as Lame coefficients) are used to express curl, divergence or gradient in desired type of coordinate system.\n",
    "\n",
    "For example if we want to calculate gradient in cylindrical coordinate system all we need to do is to create proper coordinate system"
   ]
  },
  {
   "cell_type": "code",
   "execution_count": 39,
   "metadata": {},
   "outputs": [
    {
     "data": {
      "text/latex": [
       "$\\displaystyle (\\mathbf{{theta}_{c}} \\mathbf{{z}_{c}})\\mathbf{\\hat{i}_{c}} + (\\mathbf{{z}_{c}})\\mathbf{\\hat{j}_{c}} + (\\mathbf{{r}_{c}} \\mathbf{{theta}_{c}})\\mathbf{\\hat{k}_{c}}$"
      ],
      "text/plain": [
       "c.theta*c.z*c.i + c.z*c.j + c.r*c.theta*c.k"
      ]
     },
     "execution_count": 39,
     "metadata": {},
     "output_type": "execute_result"
    }
   ],
   "source": [
    "from sympy.vector import CoordSys3D\n",
    "c = CoordSys3D('c', transformation='cylindrical', variable_names=(\"r\", \"theta\", \"z\"))\n",
    "gradient(c.r*c.theta*c.z)"
   ]
  },
  {
   "cell_type": "markdown",
   "metadata": {},
   "source": [
    "Conservative and Solenoidal fields"
   ]
  },
  {
   "cell_type": "markdown",
   "metadata": {},
   "source": [
    "In vector calculus, a conservative field is a field that is the gradient of some scalar field. Conservative fields have the property that their line integral over any path depends only on the end-points, and is independent of the path travelled. A conservative vector field is also said to be ‘irrotational’, since the curl of a conservative field is always zero.\n",
    "\n",
    "In physics, conservative fields represent forces in physical systems where energy is conserved.\n",
    "\n",
    "To check if a vector field is conservative in sympy.vector, the is_conservative function can be used."
   ]
  },
  {
   "cell_type": "code",
   "execution_count": 40,
   "metadata": {},
   "outputs": [
    {
     "data": {
      "text/plain": [
       "True"
      ]
     },
     "execution_count": 40,
     "metadata": {},
     "output_type": "execute_result"
    }
   ],
   "source": [
    "from sympy.vector import CoordSys3D, is_conservative\n",
    "R = CoordSys3D('R')\n",
    "field = R.y*R.z*R.i + R.x*R.z*R.j + R.x*R.y*R.k\n",
    "is_conservative(field)"
   ]
  },
  {
   "cell_type": "code",
   "execution_count": 41,
   "metadata": {},
   "outputs": [
    {
     "data": {
      "text/latex": [
       "$\\displaystyle \\mathbf{\\hat{0}}$"
      ],
      "text/plain": [
       "0"
      ]
     },
     "execution_count": 41,
     "metadata": {},
     "output_type": "execute_result"
    }
   ],
   "source": [
    "curl(field)"
   ]
  },
  {
   "cell_type": "markdown",
   "metadata": {},
   "source": [
    "A solenoidal field, on the other hand, is a vector field whose divergence is zero at all points in space.\n",
    "\n",
    "To check if a vector field is solenoidal in sympy.vector, the is_solenoidal function can be used."
   ]
  },
  {
   "cell_type": "code",
   "execution_count": 42,
   "metadata": {},
   "outputs": [
    {
     "data": {
      "text/plain": [
       "True"
      ]
     },
     "execution_count": 42,
     "metadata": {},
     "output_type": "execute_result"
    }
   ],
   "source": [
    "from sympy.vector import CoordSys3D, is_solenoidal\n",
    "R = CoordSys3D('R')\n",
    "field = R.y*R.z*R.i + R.x*R.z*R.j + R.x*R.y*R.k\n",
    "is_solenoidal(field)"
   ]
  },
  {
   "cell_type": "code",
   "execution_count": 43,
   "metadata": {},
   "outputs": [
    {
     "data": {
      "text/latex": [
       "$\\displaystyle 0$"
      ],
      "text/plain": [
       "0"
      ]
     },
     "execution_count": 43,
     "metadata": {},
     "output_type": "execute_result"
    }
   ],
   "source": [
    "divergence(field)"
   ]
  },
  {
   "cell_type": "markdown",
   "metadata": {},
   "source": [
    "Scalar potential functions"
   ]
  },
  {
   "cell_type": "markdown",
   "metadata": {},
   "source": [
    "We have previously mentioned that every conservative field can be defined as the gradient of some scalar field.\n",
    "This scalar field is also called the ‘scalar potential field’ corresponding to the aforementioned conservative field.\n",
    "The scalar_potential function in sympy.vector calculates the scalar potential field corresponding to a given \n",
    "conservative vector field in 3D space - minus the extra constant of integration, of course."
   ]
  },
  {
   "cell_type": "code",
   "execution_count": 44,
   "metadata": {},
   "outputs": [
    {
     "data": {
      "text/latex": [
       "$\\displaystyle 2 \\mathbf{{x}_{R}}^{2} \\mathbf{{y}_{R}} \\mathbf{{z}_{R}}$"
      ],
      "text/plain": [
       "2*R.x**2*R.y*R.z"
      ]
     },
     "execution_count": 44,
     "metadata": {},
     "output_type": "execute_result"
    }
   ],
   "source": [
    "from sympy.vector import CoordSys3D, scalar_potential\n",
    "R = CoordSys3D('R')\n",
    "conservative_field = 4*R.x*R.y*R.z*R.i + 2*R.x**2*R.z*R.j + 2*R.x**2*R.y*R.k\n",
    "scalar_potential(conservative_field, R)"
   ]
  },
  {
   "cell_type": "markdown",
   "metadata": {},
   "source": [
    "Providing a non-conservative vector field as an argument to scalar_potential raises a ValueError.\n",
    "\n",
    "The scalar potential difference, or simply ‘potential difference’, corresponding to a conservative vector field can be defined as the difference between the values of its scalar potential function at two points in space. This is useful in calculating a line integral with respect to a conservative function, since it depends only on the endpoints of the path."
   ]
  },
  {
   "cell_type": "code",
   "execution_count": 45,
   "metadata": {},
   "outputs": [
    {
     "data": {
      "text/latex": [
       "$\\displaystyle 4$"
      ],
      "text/plain": [
       "4"
      ]
     },
     "execution_count": 45,
     "metadata": {},
     "output_type": "execute_result"
    }
   ],
   "source": [
    "from sympy.vector import CoordSys3D, Point\n",
    "from sympy.vector import scalar_potential_difference\n",
    "R = CoordSys3D('R')\n",
    "P = R.origin.locate_new('P', 1*R.i + 2*R.j + 3*R.k)\n",
    "vectfield = 4*R.x*R.y*R.i + 2*R.x**2*R.j\n",
    "scalar_potential_difference(vectfield, R, R.origin, P)"
   ]
  },
  {
   "cell_type": "markdown",
   "metadata": {},
   "source": [
    "If provided with a scalar expression instead of a vector field, scalar_potential_difference returns the difference between the values of that scalar field at the two given points in space."
   ]
  },
  {
   "cell_type": "markdown",
   "metadata": {},
   "source": [
    "EXAMPLES:\n",
    "1)OABC is any quadrilateral in 3D space. P is the midpoint of OA, Q is the midpoint of AB, \n",
    "R is the midpoint of BC and S is the midpoint of OC. Prove that PQ is parallel to SR"
   ]
  },
  {
   "cell_type": "code",
   "execution_count": 46,
   "metadata": {},
   "outputs": [
    {
     "data": {
      "text/latex": [
       "$\\displaystyle \\mathbf{\\hat{0}}$"
      ],
      "text/plain": [
       "0"
      ]
     },
     "execution_count": 46,
     "metadata": {},
     "output_type": "execute_result"
    }
   ],
   "source": [
    "from sympy.vector import CoordSys3D\n",
    "\n",
    "#Define a coordinate system\n",
    "Sys = CoordSys3D('Sys')\n",
    "\n",
    "#Define point O to be Sys’ origin. We can do this without loss of generality\n",
    "O = Sys.origin\n",
    "\n",
    "#Define point A,B,C with respect to O\n",
    "from sympy import symbols\n",
    "a1, a2, a3 = symbols('a1 a2 a3')\n",
    "A = O.locate_new('A', a1*Sys.i + a2*Sys.j + a3*Sys.k)\n",
    "b1, b2, b3 = symbols('b1 b2 b3')\n",
    "B = O.locate_new('B', b1*Sys.i + b2*Sys.j + b3*Sys.k)\n",
    "c1, c2, c3 = symbols('c1 c2 c3')\n",
    "C = O.locate_new('C', c1*Sys.i + c2*Sys.j + c3*Sys.k)\n",
    "\n",
    "#P is the midpoint of OA. Lets locate it with respect to O (you could also define it with respect to A).\n",
    "#Similarly define points Q, R and S as per the problem definitions.\n",
    "P = O.locate_new('P', A.position_wrt(O) + (O.position_wrt(A) / 2))\n",
    "Q = A.locate_new('Q', B.position_wrt(A) / 2)\n",
    "R = B.locate_new('R', C.position_wrt(B) / 2)\n",
    "S = O.locate_new('R', C.position_wrt(O) / 2)\n",
    "\n",
    "#compute the vectors in the directions specified by PQ and SR.\n",
    "PQ = Q.position_wrt(P)\n",
    "SR = R.position_wrt(S)\n",
    "\n",
    "#compute cross product\n",
    "PQ.cross(SR)"
   ]
  },
  {
   "attachments": {
    "image.png": {
     "image/png": "[encoded data removed]"
    }
   },
   "cell_type": "markdown",
   "metadata": {},
   "source": [
    "q2) Third product rule for Del operator\n",
    "![image.png](attachment:image.png)"
   ]
  },
  {
   "cell_type": "code",
   "execution_count": 47,
   "metadata": {},
   "outputs": [
    {
     "data": {
      "text/plain": [
       "True"
      ]
     },
     "execution_count": 47,
     "metadata": {},
     "output_type": "execute_result"
    }
   ],
   "source": [
    "#Start with a coordinate system\n",
    "from sympy.vector import CoordSys3D, Del\n",
    "delop = Del()\n",
    "C = CoordSys3D('C')\n",
    "\n",
    "#The scalar field f,the measure numbers of the vector field v bar are all functions of the coordinate variables of the \n",
    "#coordinate system in general. Hence, define SymPy functions that way.\n",
    "\n",
    "from sympy import symbols, Function\n",
    "v1, v2, v3, f = symbols('v1 v2 v3 f', cls=Function)\n",
    "\n",
    "#Define the vector field as vfield and the scalar field as sfield\n",
    "vfield = v1(C.x, C.y, C.z)*C.i + v2(C.x, C.y, C.z)*C.j + v3(C.x, C.y, C.z)*C.k\n",
    "ffield = f(C.x, C.y, C.z)\n",
    "\n",
    "#Construct the expression for the LHS,RHS of the equation using Del()\n",
    "lhs = (delop.dot(ffield * vfield)).doit()\n",
    "rhs = ((vfield.dot(delop(ffield))) + (ffield * (delop.dot(vfield)))).doit()\n",
    "\n",
    "#To prove\n",
    "lhs.expand().simplify() == rhs.expand().doit().simplify()"
   ]
  },
  {
   "cell_type": "markdown",
   "metadata": {},
   "source": [
    "Applications of Vector Integrals"
   ]
  },
  {
   "cell_type": "markdown",
   "metadata": {},
   "source": [
    "To integrate a scalar or vector field over a region, we have to first define a region. SymPy provides three methods for defining a region:\n",
    "Using Parametric Equations with ParametricRegion.\n",
    "Using Implicit Equation with ImplicitRegion.\n",
    "Using objects of geometry module.\n",
    "\n",
    "The vector_integrate() function is used to integrate scalar or vector field over any type of region. It automatically determines the type of integration (line, surface, or volume) depending on the nature of the object.\n",
    "\n",
    "We define a coordinate system and make necesssary imports for examples."
   ]
  },
  {
   "cell_type": "code",
   "execution_count": 3,
   "metadata": {},
   "outputs": [
    {
     "data": {
      "text/latex": [
       "$\\displaystyle 8 \\pi$"
      ],
      "text/plain": [
       "8*pi"
      ]
     },
     "execution_count": 3,
     "metadata": {},
     "output_type": "execute_result"
    }
   ],
   "source": [
    "from sympy import sin, cos, exp, pi, symbols\n",
    "from sympy.vector import CoordSys3D, ParametricRegion, ImplicitRegion, vector_integrate\n",
    "from sympy.abc import r, x, y, z, theta, phi\n",
    "C = CoordSys3D('C')\n",
    "\n",
    "#To calculate the perimeter of a circle, we need to define it. Let’s define it using its parametric equation.\n",
    "param_circle = ParametricRegion((4*cos(theta), 4*sin(theta)), (theta, 0, 2*pi))\n",
    "\n",
    "#We can also define a circle using its implicit equation.\n",
    "implicit_circle = ImplicitRegion((x, y), x**2 + y**2 - 4)\n",
    "\n",
    "#The perimeter of a figure is equal to the absolute value of its integral over a unit scalar field.\n",
    "vector_integrate(1, param_circle)"
   ]
  },
  {
   "cell_type": "code",
   "execution_count": 4,
   "metadata": {},
   "outputs": [
    {
     "data": {
      "text/latex": [
       "$\\displaystyle 4 \\pi$"
      ],
      "text/plain": [
       "4*pi"
      ]
     },
     "execution_count": 4,
     "metadata": {},
     "output_type": "execute_result"
    }
   ],
   "source": [
    "vector_integrate(1, implicit_circle)"
   ]
  },
  {
   "cell_type": "code",
   "execution_count": 5,
   "metadata": {},
   "outputs": [
    {
     "data": {
      "text/latex": [
       "$\\displaystyle \\sqrt{5} + \\sqrt{13} + 4$"
      ],
      "text/plain": [
       "sqrt(5) + sqrt(13) + 4"
      ]
     },
     "execution_count": 5,
     "metadata": {},
     "output_type": "execute_result"
    }
   ],
   "source": [
    "from sympy.geometry import Point, Polygon\n",
    "triangle = Polygon(Point(1, 2), (3, 5), (1,6))\n",
    "vector_integrate(1, triangle)"
   ]
  },
  {
   "cell_type": "code",
   "execution_count": 6,
   "metadata": {},
   "outputs": [
    {
     "data": {
      "text/latex": [
       "$\\displaystyle 36 \\pi$"
      ],
      "text/plain": [
       "36*pi"
      ]
     },
     "execution_count": 6,
     "metadata": {},
     "output_type": "execute_result"
    }
   ],
   "source": [
    "#To define a solid sphere, we need to use three parameters (r, theta and phi).\n",
    "#For ParametricRegion obextj, the order of limits determine the sign of the integral.\n",
    "solidsphere = ParametricRegion((r*sin(phi)*cos(theta),r*sin(phi)*sin(theta), r*cos(phi)),\n",
    "                            (phi, 0, pi), (theta, 0, 2*pi), (r, 0, 3))\n",
    "vector_integrate(1, solidsphere)"
   ]
  },
  {
   "cell_type": "markdown",
   "metadata": {},
   "source": [
    "Calculation of mass of a body"
   ]
  },
  {
   "cell_type": "markdown",
   "metadata": {},
   "source": [
    "Consider a triangular lamina 𝑅 with vertices (0,0), (0, 5), (5,0) and with rho(x,y)=xy. Find the total mass."
   ]
  },
  {
   "cell_type": "code",
   "execution_count": 7,
   "metadata": {},
   "outputs": [
    {
     "data": {
      "text/latex": [
       "$\\displaystyle \\frac{625}{24}$"
      ],
      "text/plain": [
       "625/24"
      ]
     },
     "execution_count": 7,
     "metadata": {},
     "output_type": "execute_result"
    }
   ],
   "source": [
    "triangle = ParametricRegion((x, y), (x, 0, 5), (y, 0, 5 - x))\n",
    "vector_integrate(C.x*C.y, triangle)"
   ]
  },
  {
   "cell_type": "markdown",
   "metadata": {},
   "source": [
    "Find the mass of a cylinder centered on the z-axis which has height h, radius a, and density rho=x^2+y^2"
   ]
  },
  {
   "cell_type": "code",
   "execution_count": 8,
   "metadata": {},
   "outputs": [
    {
     "data": {
      "text/latex": [
       "$\\displaystyle \\frac{\\pi a^{4} h}{2}$"
      ],
      "text/plain": [
       "pi*a**4*h/2"
      ]
     },
     "execution_count": 8,
     "metadata": {},
     "output_type": "execute_result"
    }
   ],
   "source": [
    "a, h = symbols('a h', positive=True)\n",
    "cylinder = ParametricRegion((r*cos(theta), r*sin(theta), z),\n",
    "                    (theta, 0, 2*pi), (z, 0, h), (r, 0, a))\n",
    "vector_integrate(C.x**2 + C.y**2, cylinder)"
   ]
  },
  {
   "cell_type": "markdown",
   "metadata": {},
   "source": [
    "Calculation of Flux\n",
    "Consider a region of space in which there is a constant vectorfield E(x,y,z)= a (kcap).\n",
    "A hemisphere of radius r lies on the x-y plane. What is the flux of the field through the sphere?"
   ]
  },
  {
   "cell_type": "code",
   "execution_count": 10,
   "metadata": {},
   "outputs": [
    {
     "data": {
      "text/latex": [
       "$\\displaystyle \\pi a r^{2}$"
      ],
      "text/plain": [
       "pi*a*r**2"
      ]
     },
     "execution_count": 10,
     "metadata": {},
     "output_type": "execute_result"
    }
   ],
   "source": [
    "semisphere = ParametricRegion((r*sin(phi)*cos(theta), r*sin(phi)*sin(theta), r*cos(phi)),\n",
    "                            (phi, 0, pi/2), (theta, 0, 2*pi))\n",
    "flux = vector_integrate(a*C.k, semisphere)\n",
    "flux"
   ]
  },
  {
   "cell_type": "markdown",
   "metadata": {},
   "source": [
    "Consider a region of space in which there is a vector field E(x,y,z)= x^2 (kcap)above the x-y plane, and a field \n",
    "E(x,y,z)= y^2 (kcap) below the x-y plane. \n",
    "What is the flux of that vector field through a cube of side length L with its center at the origin?”\n",
    "The field is parallel to the z-axis so only the top and bottom face of the box will contribute to flux."
   ]
  },
  {
   "cell_type": "code",
   "execution_count": 13,
   "metadata": {},
   "outputs": [
    {
     "data": {
      "text/latex": [
       "$\\displaystyle \\frac{L^{4}}{6}$"
      ],
      "text/plain": [
       "L**4/6"
      ]
     },
     "execution_count": 13,
     "metadata": {},
     "output_type": "execute_result"
    }
   ],
   "source": [
    "L = symbols('L', positive=True)\n",
    "top_face = ParametricRegion((x, y, L/2), (x, -L/2, L/2), (y, -L/2, L/2))\n",
    "bottom_face = ParametricRegion((x, y, -L/2), (x, -L/2, L/2), (y, -L/2, L/2))\n",
    "flux = vector_integrate(C.x**2*C.k, top_face) + vector_integrate(C.y**2*C.k, bottom_face)\n",
    "flux"
   ]
  },
  {
   "cell_type": "markdown",
   "metadata": {},
   "source": [
    "Verifying Stoke’s Theorem"
   ]
  },
  {
   "cell_type": "code",
   "execution_count": 14,
   "metadata": {},
   "outputs": [
    {
     "data": {
      "text/latex": [
       "$\\displaystyle - \\frac{\\pi}{4}$"
      ],
      "text/plain": [
       "-pi/4"
      ]
     },
     "execution_count": 14,
     "metadata": {},
     "output_type": "execute_result"
    }
   ],
   "source": [
    "from sympy.vector import curl\n",
    "curve = ParametricRegion((cos(theta), sin(theta)), (theta, 0, pi/2))\n",
    "surface = ParametricRegion((r*cos(theta), r*sin(theta)), (r, 0, 1), (theta, 0, pi/2))\n",
    "F = C.y*C.i + C.z*C.k + C.x*C.k\n",
    "vector_integrate(F, curve)\n",
    "vector_integrate(curl(F), surface)"
   ]
  },
  {
   "cell_type": "code",
   "execution_count": 15,
   "metadata": {},
   "outputs": [
    {
     "data": {
      "text/latex": [
       "$\\displaystyle \\frac{\\pi}{2}$"
      ],
      "text/plain": [
       "pi/2"
      ]
     },
     "execution_count": 15,
     "metadata": {},
     "output_type": "execute_result"
    }
   ],
   "source": [
    "circle = ParametricRegion((cos(theta), sin(theta), 1), (theta, 0, 2*pi))\n",
    "cone = ParametricRegion((r*cos(theta), r*sin(theta), r), (r, 0, 1), (theta, 0, 2*pi))\n",
    "cone = ParametricRegion((r*cos(theta), r*sin(theta), r), (r, 0, 1), (theta, 0, 2*pi))\n",
    "f = (-C.y**3/3 + sin(C.x))*C.i + (C.x**3/3 + cos(C.y))*C.j + C.x*C.y*C.z*C.k\n",
    "vector_integrate(f,  circle)\n",
    "vector_integrate(curl(f),  cone)"
   ]
  },
  {
   "cell_type": "markdown",
   "metadata": {},
   "source": [
    "Verifying Divergence Theorem"
   ]
  },
  {
   "cell_type": "code",
   "execution_count": 16,
   "metadata": {},
   "outputs": [
    {
     "data": {
      "text/latex": [
       "$\\displaystyle \\frac{12288 \\pi}{5}$"
      ],
      "text/plain": [
       "12288*pi/5"
      ]
     },
     "execution_count": 16,
     "metadata": {},
     "output_type": "execute_result"
    }
   ],
   "source": [
    "from sympy.vector import divergence\n",
    "sphere = ParametricRegion((4*sin(phi)*cos(theta),4*sin(phi)*sin(theta), 4*cos(phi)),\n",
    "                        (phi, 0, pi), (theta, 0, 2*pi))\n",
    "solidsphere = ParametricRegion((r*sin(phi)*cos(theta),r*sin(phi)*sin(theta), r*cos(phi)),\n",
    "    (r, 0, 4),(phi, 0, pi), (theta, 0, 2*pi))\n",
    "field = C.x**3*C.i + C.y**3*C.j + C.z**3*C.k\n",
    "vector_integrate(field, sphere)\n",
    "vector_integrate(divergence(field), solidsphere)"
   ]
  },
  {
   "cell_type": "code",
   "execution_count": 17,
   "metadata": {},
   "outputs": [
    {
     "data": {
      "text/latex": [
       "$\\displaystyle - e + \\frac{7}{2} + e \\left(-1 + e\\right)$"
      ],
      "text/plain": [
       "-E + 7/2 + E*(-1 + E)"
      ]
     },
     "execution_count": 17,
     "metadata": {},
     "output_type": "execute_result"
    }
   ],
   "source": [
    "cube = ParametricRegion((x, y, z), (x, 0, 1), (y, 0, 1), (z, 0, 1))\n",
    "field = 2*C.x*C.y*C.i + 3*C.x*C.y*C.j + C.z*exp(C.x + C.y)*C.k\n",
    "vector_integrate(divergence(field), cube)"
   ]
  },
  {
   "cell_type": "code",
   "execution_count": null,
   "metadata": {},
   "outputs": [],
   "source": []
  }
 ],
 "metadata": {
  "kernelspec": {
   "display_name": "Python 3",
   "language": "python",
   "name": "python3"
  },
  "language_info": {
   "codemirror_mode": {
    "name": "ipython",
    "version": 3
   },
   "file_extension": ".py",
   "mimetype": "text/x-python",
   "name": "python",
   "nbconvert_exporter": "python",
   "pygments_lexer": "ipython3",
   "version": "3.8.5"
  }
 },
 "nbformat": 4,
 "nbformat_minor": 4
}
