{
 "cells": [
  {
   "cell_type": "code",
   "execution_count": 1,
   "metadata": {},
   "outputs": [],
   "source": [
    "import numpy as np\n",
    "import matplotlib.pyplot as plt\n",
    "from scipy.optimize import fsolve\n",
    "from ipynb.fs.full.NewtonRaph_function_new import Newton_Raphson1"
   ]
  },
  {
   "cell_type": "code",
   "execution_count": 2,
   "metadata": {},
   "outputs": [],
   "source": [
    "def f(X,alpha,beta):\n",
    "    x = X[0]\n",
    "    res = np.zeros(len(X))\n",
    "    res[0] = alpha*np.cos(x) - beta*x**3\n",
    "    return res"
   ]
  },
  {
   "cell_type": "code",
   "execution_count": 3,
   "metadata": {},
   "outputs": [],
   "source": [
    "def J(X,alpha, beta):\n",
    "    x = X[0]\n",
    "    dfdx_res       = np.zeros((len(X),len(X)))\n",
    "    dfdx_res[0][0] = -alpha*np.sin(x)- 3*beta*x**2\n",
    "    return dfdx_res"
   ]
  },
  {
   "cell_type": "code",
   "execution_count": 4,
   "metadata": {},
   "outputs": [],
   "source": [
    "alpha = 1\n",
    "beta = 2\n",
    "X = [1]\n",
    "max_iter = 20\n",
    "tol = 1e-15"
   ]
  },
  {
   "cell_type": "code",
   "execution_count": 5,
   "metadata": {},
   "outputs": [
    {
     "name": "stdout",
     "output_type": "stream",
     "text": [
      "Iteration 1:x[0]=0.7866397888154096:f[0]=-1.4596976941318602\n",
      "Iteration 2:x[0]=0.7261709381607133:f[0]=-0.2673205221391448\n",
      "Iteration 3:x[0]=0.7214340390454733:f[0]=-0.018132645287873284\n",
      "Iteration 4:x[0]=0.7214060336500903:f[0]=-0.0001059518195203335\n",
      "Iteration 5:x[0]=0.721406032674848:f[0]=-3.6893424981698786e-09\n",
      "Iteration 6:x[0]=0.721406032674848:f[0]=-1.1102230246251565e-16\n"
     ]
    }
   ],
   "source": [
    "sol = Newton_Raphson1(f,J,X,max_iter,tol,args=(alpha,beta))"
   ]
  },
  {
   "cell_type": "code",
   "execution_count": 6,
   "metadata": {},
   "outputs": [],
   "source": [
    "sol1=fsolve(f,[1],args=(alpha,beta))"
   ]
  },
  {
   "cell_type": "code",
   "execution_count": 7,
   "metadata": {},
   "outputs": [
    {
     "name": "stdout",
     "output_type": "stream",
     "text": [
      "[0.72140603]\n"
     ]
    }
   ],
   "source": [
    "print(sol1)"
   ]
  },
  {
   "cell_type": "code",
   "execution_count": null,
   "metadata": {},
   "outputs": [],
   "source": []
  }
 ],
 "metadata": {
  "kernelspec": {
   "display_name": "Python 3",
   "language": "python",
   "name": "python3"
  },
  "language_info": {
   "codemirror_mode": {
    "name": "ipython",
    "version": 3
   },
   "file_extension": ".py",
   "mimetype": "text/x-python",
   "name": "python",
   "nbconvert_exporter": "python",
   "pygments_lexer": "ipython3",
   "version": "3.8.5"
  }
 },
 "nbformat": 4,
 "nbformat_minor": 4
}
