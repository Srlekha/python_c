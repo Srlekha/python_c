{
 "cells": [
  {
   "cell_type": "code",
   "execution_count": 1,
   "metadata": {},
   "outputs": [],
   "source": [
    "import numpy as np\n",
    "import matplotlib.pyplot as plt\n",
    "from scipy.optimize import fsolve"
   ]
  },
  {
   "cell_type": "code",
   "execution_count": 2,
   "metadata": {},
   "outputs": [],
   "source": [
    "def f(X):\n",
    "    x=X[0]\n",
    "    res=np.zeros(len(X))\n",
    "    res[0]=np.cos(x)-2*x**3\n",
    "    return res"
   ]
  },
  {
   "cell_type": "code",
   "execution_count": 3,
   "metadata": {},
   "outputs": [],
   "source": [
    "def J(X):\n",
    "    x=X[0]\n",
    "    dfdx_res=np.zeros((len(X),len(X)))\n",
    "    dfdx_res[0][0]=-np.sin(x)-6*x**2\n",
    "    return dfdx_res"
   ]
  },
  {
   "cell_type": "code",
   "execution_count": 4,
   "metadata": {},
   "outputs": [],
   "source": [
    "X=[1]\n",
    "max_iter=20\n",
    "tol=1e-7\n",
    "i=0"
   ]
  },
  {
   "cell_type": "code",
   "execution_count": 5,
   "metadata": {},
   "outputs": [
    {
     "name": "stdout",
     "output_type": "stream",
     "text": [
      "Iteration:1x= [[0.78663979]]f(x)=[-0.26732052]\n",
      "Iteration:2x= [[0.72617094]]f(x)=[-0.01813265]\n",
      "Iteration:3x= [[0.72143404]]f(x)=[-0.00010595]\n",
      "Iteration:4x= [[0.72140603]]f(x)=[-3.6893425e-09]\n"
     ]
    }
   ],
   "source": [
    "fvalue=f(X)\n",
    "while abs(fvalue)>tol and i<max_iter:\n",
    "    i=i+1\n",
    "    X[0]=X[0]-f(X)/J(X)\n",
    "    fvalue=f(X)\n",
    "    print('Iteration:' +str(i) + 'x= ' +str(X[0]) + 'f(x)=' +str(fvalue))\n"
   ]
  },
  {
   "cell_type": "code",
   "execution_count": 6,
   "metadata": {},
   "outputs": [
    {
     "name": "stdout",
     "output_type": "stream",
     "text": [
      "[array([[0.72140603]])]\n"
     ]
    }
   ],
   "source": [
    "print(X)"
   ]
  }
 ],
 "metadata": {
  "kernelspec": {
   "display_name": "Python 3",
   "language": "python",
   "name": "python3"
  },
  "language_info": {
   "codemirror_mode": {
    "name": "ipython",
    "version": 3
   },
   "file_extension": ".py",
   "mimetype": "text/x-python",
   "name": "python",
   "nbconvert_exporter": "python",
   "pygments_lexer": "ipython3",
   "version": "3.8.5"
  }
 },
 "nbformat": 4,
 "nbformat_minor": 4
}
