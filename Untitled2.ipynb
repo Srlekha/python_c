{
 "cells": [
  {
   "cell_type": "code",
   "execution_count": 1,
   "metadata": {},
   "outputs": [
    {
     "name": "stdout",
     "output_type": "stream",
     "text": [
      "Collecting package metadata (current_repodata.json): ...working... done\n",
      "Solving environment: ...working... done\n",
      "\n",
      "## Package Plan ##\n",
      "\n",
      "  environment location: C:\\Users\\sreel\\anaconda3\n",
      "\n",
      "  added / updated specs:\n",
      "    - sympy\n",
      "\n",
      "\n",
      "The following packages will be downloaded:\n",
      "\n",
      "    package                    |            build\n",
      "    ---------------------------|-----------------\n",
      "    backports.functools_lru_cache-1.6.4|     pyhd3eb1b0_0           9 KB\n",
      "    backports.tempfile-1.0     |     pyhd3eb1b0_1          11 KB\n",
      "    conda-package-handling-1.9.0|   py38h8cc25b3_1         744 KB\n",
      "    pycryptodome-3.15.0        |   py38h2bbff1b_0         1.4 MB\n",
      "    xmltodict-0.12.0           |     pyhd3eb1b0_0          13 KB\n",
      "    ------------------------------------------------------------\n",
      "                                           Total:         2.1 MB\n",
      "\n",
      "The following packages will be UPDATED:\n",
      "\n",
      "  backports.functoo~                             1.6.1-py_0 --> 1.6.4-pyhd3eb1b0_0 None\n",
      "  conda-package-han~                   1.7.2-py38h76e460a_0 --> 1.9.0-py38h8cc25b3_1 None\n",
      "  pycryptodome       conda-forge::pycryptodome-3.10.1-py38~ --> pkgs/main::pycryptodome-3.15.0-py38h2bbff1b_0 None\n",
      "\n",
      "The following packages will be DOWNGRADED:\n",
      "\n",
      "  backports.tempfile                               1.0-py_1 --> 1.0-pyhd3eb1b0_1 None\n",
      "  xmltodict                                     0.12.0-py_0 --> 0.12.0-pyhd3eb1b0_0 None\n",
      "\n",
      "\n",
      "\n",
      "Downloading and Extracting Packages\n",
      "\n",
      "backports.tempfile-1 | 11 KB     |            |   0% \n",
      "backports.tempfile-1 | 11 KB     | ########## | 100% \n",
      "backports.tempfile-1 | 11 KB     | ########## | 100% \n",
      "\n",
      "conda-package-handli | 744 KB    |            |   0% \n",
      "conda-package-handli | 744 KB    | 2          |   2% \n",
      "conda-package-handli | 744 KB    | 6          |   6% \n",
      "conda-package-handli | 744 KB    | #9         |  19% \n",
      "conda-package-handli | 744 KB    | ###8       |  39% \n",
      "conda-package-handli | 744 KB    | ######     |  60% \n",
      "conda-package-handli | 744 KB    | ########## | 100% \n",
      "conda-package-handli | 744 KB    | ########## | 100% \n",
      "\n",
      "pycryptodome-3.15.0  | 1.4 MB    |            |   0% \n",
      "pycryptodome-3.15.0  | 1.4 MB    | 1          |   1% \n",
      "pycryptodome-3.15.0  | 1.4 MB    | #1         |  11% \n",
      "pycryptodome-3.15.0  | 1.4 MB    | ##4        |  25% \n",
      "pycryptodome-3.15.0  | 1.4 MB    | ###8       |  39% \n",
      "pycryptodome-3.15.0  | 1.4 MB    | #####2     |  52% \n",
      "pycryptodome-3.15.0  | 1.4 MB    | #######3   |  74% \n",
      "pycryptodome-3.15.0  | 1.4 MB    | ########8  |  89% \n",
      "pycryptodome-3.15.0  | 1.4 MB    | ########## | 100% \n",
      "pycryptodome-3.15.0  | 1.4 MB    | ########## | 100% \n",
      "\n",
      "xmltodict-0.12.0     | 13 KB     |            |   0% \n",
      "xmltodict-0.12.0     | 13 KB     | ########## | 100% \n",
      "xmltodict-0.12.0     | 13 KB     | ########## | 100% \n",
      "\n",
      "backports.functools_ | 9 KB      |            |   0% \n",
      "backports.functools_ | 9 KB      | ########## | 100% \n",
      "backports.functools_ | 9 KB      | ########## | 100% \n",
      "Preparing transaction: ...working... done\n",
      "Verifying transaction: ...working... done\n",
      "Executing transaction: ...working... done\n",
      "Retrieving notices: ...working... done\n",
      "\n",
      "Note: you may need to restart the kernel to use updated packages.\n"
     ]
    }
   ],
   "source": [
    "conda update sympy\n"
   ]
  },
  {
   "cell_type": "code",
   "execution_count": null,
   "metadata": {},
   "outputs": [],
   "source": []
  }
 ],
 "metadata": {
  "kernelspec": {
   "display_name": "Python 3",
   "language": "python",
   "name": "python3"
  },
  "language_info": {
   "codemirror_mode": {
    "name": "ipython",
    "version": 3
   },
   "file_extension": ".py",
   "mimetype": "text/x-python",
   "name": "python",
   "nbconvert_exporter": "python",
   "pygments_lexer": "ipython3",
   "version": "3.8.5"
  }
 },
 "nbformat": 4,
 "nbformat_minor": 4
}
