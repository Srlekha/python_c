{
 "cells": [
  {
   "cell_type": "code",
   "execution_count": 1,
   "metadata": {},
   "outputs": [],
   "source": [
    "import numpy as np\n",
    "import matplotlib.pyplot as plt\n",
    "from ipynb.fs.full.Thomas_Algo_new import ThomasAlgorithm,create_tridiagonal\n",
    "from sympy import *"
   ]
  },
  {
   "cell_type": "code",
   "execution_count": 2,
   "metadata": {},
   "outputs": [],
   "source": [
    "def create_matrix_2(y,x,**kwargs):  # implicit\n",
    "    args=kwargs['args']\n",
    "    #alpha=args[0]\n",
    "    \n",
    "    Nx=len(x)\n",
    "    dx=x[1]-x[0]\n",
    "    a=np.zeros(len(x))\n",
    "    b=np.zeros(len(x))\n",
    "    c=np.zeros(len(x))\n",
    "    d=np.zeros(len(x))\n",
    "    for n in range(1,Nx-1,1):\n",
    "        a[n]=-alpha\n",
    "        b[n]=(1+2*alpha)\n",
    "        c[n]=-alpha\n",
    "        d[n]=y[n] #dx**2*f(x[n]) #y[n]\n",
    "        \n",
    "    return a,b,c,d"
   ]
  },
  {
   "cell_type": "code",
   "execution_count": 3,
   "metadata": {},
   "outputs": [],
   "source": [
    "def CrankNicholsan(y,x,**kwargs):\n",
    "    args=kwargs['args']\n",
    "    #alpha=args[0]\n",
    "    \n",
    "    Nx=len(x)\n",
    "    dx=x[1]-x[0]\n",
    "    a=np.zeros(len(x))\n",
    "    b=np.zeros(len(x))\n",
    "    c=np.zeros(len(x))\n",
    "    d=np.zeros(len(x))\n",
    "    for n in range(1,Nx-1,1):\n",
    "        a[n]=-alpha/2\n",
    "        b[n]=1+alpha\n",
    "        c[n]=-alpha/2\n",
    "        d[n]= y[n]*(1-alpha)+0.5*alpha*y[n+1]+0.5*alpha*y[n-1] #dx**2*f(x[n]) #y[n]\n",
    "        \n",
    "    return a,b,c,d"
   ]
  },
  {
   "cell_type": "code",
   "execution_count": 4,
   "metadata": {},
   "outputs": [],
   "source": [
    "def diffusion_explicit(y,x,**kwargs):\n",
    "    args=kwargs['args']\n",
    "    #alpha=args[0]\n",
    "    \n",
    "    Nx=len(x)\n",
    "    dx=x[1]-x[0]\n",
    "    a=np.zeros(len(x))\n",
    "    b=np.zeros(len(x))\n",
    "    c=np.zeros(len(x))\n",
    "    d=np.zeros(len(x))\n",
    "    for n in range(1,Nx-1,1):\n",
    "        a[n]=0\n",
    "        b[n]=1\n",
    "        c[n]=0\n",
    "        d[n]= alpha*y[n+1]+(1-2*alpha)*y[n]+alpha*y[n-1] #dx**2*f(x[n]) #y[n]\n",
    "        \n",
    "    return a,b,c,d"
   ]
  },
  {
   "cell_type": "code",
   "execution_count": 5,
   "metadata": {},
   "outputs": [],
   "source": [
    "Nx=100\n",
    "xmax=10\n",
    "xmin=0\n",
    "x =np.linspace(0,xmax-xmin,Nx)\n",
    "t =np.linspace(0,1,1001)  # As we increase dt, t_ana(t=lasttime) go near and near to the t=last time .\n",
    "sol =np.zeros((len(t),len(x)))\n",
    "sol[0] =0\n",
    "sol[0,:] =np.sin(3*np.pi*x/xmax-xmin)\n",
    "\n",
    "\n",
    "sol_CN =np.zeros((len(t),len(x)))\n",
    "sol_CN[0] =0\n",
    "sol_CN[0,:] =np.sin(3*np.pi*x/xmax-xmin)\n",
    "D=1 # if we increase D, the graph becomes parallel to X-axis (homogenization in diffusion)\n",
    "\n",
    "sol_exp =np.zeros((len(t),len(x)))\n",
    "sol_exp[0] =0\n",
    "sol_exp[0,:] =np.sin(3*np.pi*x/xmax-xmin)\n",
    "\n",
    "dx=x[1]-x[0]\n",
    "dt=t[1]-t[0]\n",
    "\n",
    "alpha=D*dt/(dx**2)\n",
    "for time in range(1,len(t),1):\n",
    "    sol[time]= ThomasAlgorithm(create_matrix_2,sol[time-1,:],x,args=(alpha,),Left='Dirichlet',Right='Dirichlet')\n",
    "    sol_CN[time]=ThomasAlgorithm(CrankNicholsan,sol_CN[time-1,:],x,args=(alpha,),Left='Dirichlet',Right='Dirichlet')\n",
    "    sol_exp[time]=ThomasAlgorithm(diffusion_explicit,sol_exp[time-1,:],x,args=(alpha,),Left='Dirichlet',Right='Dirichlet')"
   ]
  },
  {
   "cell_type": "code",
   "execution_count": 6,
   "metadata": {},
   "outputs": [],
   "source": [
    "ana=np.zeros((len(t),len(x)))\n",
    "for time in range(1,len(t),1):\n",
    "    ana[time]=np.sin(3*np.pi*x/(xmax-xmin))*np.exp(-D*9*np.pi**2*t[time]/((xmax-xmin)*(xmax-xmin)))          "
   ]
  },
  {
   "cell_type": "code",
   "execution_count": 7,
   "metadata": {},
   "outputs": [
    {
     "data": {
      "image/png": "[encoded data removed]",
      "text/plain": [
       "<Figure size 432x288 with 1 Axes>"
      ]
     },
     "metadata": {
      "needs_background": "light"
     },
     "output_type": "display_data"
    }
   ],
   "source": [
    "plt.plot(x,sol[-1,:],label='t=last_time_implicit')\n",
    "plt.plot(x,sol[0,:],label='t=0')\n",
    "plt.plot(x,ana[-1,:],label='t_analytical')\n",
    "plt.plot(x,sol_CN[-1,:],label='t_lastime_CN')\n",
    "plt.plot(x,sol_exp[-1,:],label='t_lastime_explicit')\n",
    "plt.legend()\n",
    "plt.show()"
   ]
  },
  {
   "cell_type": "code",
   "execution_count": 8,
   "metadata": {},
   "outputs": [],
   "source": [
    "#plt.plot(t,sol[:,1],label='t=last_time')"
   ]
  }
 ],
 "metadata": {
  "kernelspec": {
   "display_name": "Python 3",
   "language": "python",
   "name": "python3"
  },
  "language_info": {
   "codemirror_mode": {
    "name": "ipython",
    "version": 3
   },
   "file_extension": ".py",
   "mimetype": "text/x-python",
   "name": "python",
   "nbconvert_exporter": "python",
   "pygments_lexer": "ipython3",
   "version": "3.8.5"
  }
 },
 "nbformat": 4,
 "nbformat_minor": 4
}
