{
 "cells": [
  {
   "cell_type": "code",
   "execution_count": 1,
   "metadata": {},
   "outputs": [],
   "source": [
    "import numpy as np\n",
    "import matplotlib.pyplot as plt"
   ]
  },
  {
   "cell_type": "code",
   "execution_count": 2,
   "metadata": {},
   "outputs": [],
   "source": [
    "def create_tridiagonal(y,x,a,b,c,d,**kwargs):\n",
    "    BC_L = kwargs[\"Left\"]\n",
    "    BC_R = kwargs[\"Right\"]\n",
    "    args = kwargs[\"args\"]\n",
    "    Nx   = len(x)\n",
    "   \n",
    "    if BC_L==\"Dirichlet\" and BC_R==\"Dirichlet\":\n",
    "        d[1]    = d[1]    - a[1]*y[0]\n",
    "        d[Nx-2] = d[Nx-2] - c[Nx-2]*y[Nx-1]\n",
    "        \n",
    "    if BC_L==\"Dirichlet\" and BC_R==\"Neumann\":\n",
    "        d[1]    = d[1]    - a[1]*y[0]\n",
    "        b[Nx-2] = b[Nx-2] + c[Nx-2]\n",
    "            \n",
    "    if BC_L==\"Neumann\" and BC_R==\"Dirichlet\":\n",
    "        b[1]    = b[1]    + a[1]\n",
    "        d[Nx-2] = d[Nx-2] - c[Nx-2]*y[Nx-1]\n",
    "    \n",
    "    return a,b,c,d"
   ]
  },
  {
   "cell_type": "code",
   "execution_count": 3,
   "metadata": {},
   "outputs": [],
   "source": [
    "def ThomasAlgorithm(create_matrix,y,x,**kwargs):\n",
    "    BC_L = kwargs[\"Left\"]\n",
    "    BC_R = kwargs[\"Right\"]\n",
    "    \n",
    "    a,b,c,d = create_matrix(y,x,**kwargs)\n",
    "    a,b,c,d = create_tridiagonal(y,x,a,b,c,d,**kwargs)\n",
    "    \n",
    "    # Thomas Algorithm:\n",
    "    # Forward calculation\n",
    "    Nx = len(x)\n",
    "    y1 = np.zeros(len(x))\n",
    "    for n in range(2,Nx-1,1):\n",
    "        #a[n] = -a[n]/b[n-1]*b[n-1] + a[n]\n",
    "        b[n] = -a[n]/b[n-1]*c[n-1] + b[n]\n",
    "        d[n] = -a[n]/b[n-1]*d[n-1] + d[n]\n",
    "    # Backward substitution\n",
    "    for n in range(Nx-2,0,-1):\n",
    "        if n == Nx-2:\n",
    "            y1[n] = d[n]/b[n]\n",
    "        else:\n",
    "            y1[n] = (d[n]-c[n]*y[n+1])/b[n]\n",
    "\n",
    "    if BC_L==\"Dirichlet\" and BC_R==\"Neumann\":\n",
    "        y1[Nx-1] = y1[Nx-2]\n",
    "    if BC_L==\"Neumann\" and BC_R==\"Dirichlet\":\n",
    "        y1[0]    = y1[1]\n",
    "        \n",
    "    return y1"
   ]
  },
  {
   "cell_type": "code",
   "execution_count": null,
   "metadata": {},
   "outputs": [],
   "source": []
  }
 ],
 "metadata": {
  "kernelspec": {
   "display_name": "Python 3",
   "language": "python",
   "name": "python3"
  },
  "language_info": {
   "codemirror_mode": {
    "name": "ipython",
    "version": 3
   },
   "file_extension": ".py",
   "mimetype": "text/x-python",
   "name": "python",
   "nbconvert_exporter": "python",
   "pygments_lexer": "ipython3",
   "version": "3.8.5"
  }
 },
 "nbformat": 4,
 "nbformat_minor": 5
}
