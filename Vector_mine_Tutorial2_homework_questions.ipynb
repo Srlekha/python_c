{
 "cells": [
  {
   "cell_type": "markdown",
   "metadata": {},
   "source": [
    "### 1 ) Prove Gauss’s law for an electric flux using the divergence theorem. \n",
    "\n",
    "#### Hint: If there are two different surfaces surrounding the same point then the flux across both of them is the same if $\\nabla$$\\cdot$F = 0"
   ]
  },
  {
   "cell_type": "code",
   "execution_count": 13,
   "metadata": {},
   "outputs": [],
   "source": [
    "#Define Electric Field\n",
    "from sympy.vector import CoordSys3D\n",
    "sys = CoordSys3D('sys')\n",
    "#r = (sys.x**2+sys.y**2+sys.z**2)**(1/2)\n",
    "F = (sys.x*sys.i + sys.y*sys.j + sys.z*sys.k)/(r**3)"
   ]
  },
  {
   "cell_type": "code",
   "execution_count": 14,
   "metadata": {},
   "outputs": [
    {
     "data": {
      "text/latex": [
       "$\\displaystyle 0$"
      ],
      "text/plain": [
       "0"
      ]
     },
     "execution_count": 14,
     "metadata": {},
     "output_type": "execute_result"
    }
   ],
   "source": [
    "from sympy.vector import divergence\n",
    "divergence(F).simplify()"
   ]
  },
  {
   "cell_type": "code",
   "execution_count": 14,
   "metadata": {},
   "outputs": [],
   "source": [
    "#The divergence of the field is zero. Therefore the flux across a neat, simple sphere of radius (say,'a') would be \n",
    "# the flux acorss any surface\n",
    "from sympy.abc import a,q ,epsilon\n",
    "\n",
    "Electric_field =  (q/(4*pi*epsilon))*F\n",
    "spherical_surface = ParametricRegion((a*sin(phi)*cos(theta),a*sin(phi)*sin(theta), a*cos(phi)),(phi, 0, pi), (theta, 0, 2*pi))"
   ]
  },
  {
   "cell_type": "code",
   "execution_count": 15,
   "metadata": {},
   "outputs": [],
   "source": [
    "#Flux across the sphere 'a' from Divergence theorem\n",
    "Flux = vector_integrate(Electric_field,spherical_surface)"
   ]
  },
  {
   "cell_type": "code",
   "execution_count": 16,
   "metadata": {},
   "outputs": [
    {
     "data": {
      "text/latex": [
       "$\\displaystyle \\frac{a^{3} q}{\\epsilon r^{3}}$"
      ],
      "text/plain": [
       "a**3*q/(epsilon*r**3)"
      ]
     },
     "execution_count": 16,
     "metadata": {},
     "output_type": "execute_result"
    }
   ],
   "source": [
    "Flux.simplify()"
   ]
  },
  {
   "cell_type": "markdown",
   "metadata": {},
   "source": [
    "### 2) Check, and if path-independent, integrate from (0, 0, 0) to (a, b, c). \n",
    "### (i) (2 exp$x$$^{2}$)(xcos2y dx - sin2y dy) \n",
    "### (ii) x$^{2}$ ydx +4xy$^{2}$ dy+8z$^{2}$x dz "
   ]
  },
  {
   "cell_type": "code",
   "execution_count": 17,
   "metadata": {},
   "outputs": [
    {
     "name": "stdout",
     "output_type": "stream",
     "text": [
      "The value of the integral is\n"
     ]
    },
    {
     "data": {
      "text/html": [
       "\n",
       "<form action=\"javascript:code_toggle()\"><input type=\"submit\" id=\"toggleButton\" value=\"Show Sloution\"></form>\n"
      ],
      "text/plain": [
       "<IPython.core.display.HTML object>"
      ]
     },
     "metadata": {},
     "output_type": "display_data"
    }
   ],
   "source": [
    "# To check if they are exact get the curl of the field\n",
    "from sympy.vector import Vector, curl\n",
    "from sympy.abc import a, b, c\n",
    "\n",
    "#Define the field\n",
    "F1 = 2* exp(sys.x**2)*(sys.x*cos(2*sys.y))*sys.i - 2* exp(sys.x**2)*(sin(2*sys.y))*sys.j\n",
    "#F1 = (sys.x**2*sys.y)*sys.i + 4*sys.x*sys.y**2 *sys.j+ 8*sys.z**2*sys.x*sys.k\n",
    "\n",
    "#Define the endpoints\n",
    "P1 = sys.origin.locate_new('P1', 0*sys.i + 0*sys.j + 0*sys.k)\n",
    "Q1 = sys.origin.locate_new('Q1', a*sys.i + b*sys.j + c*sys.k)\n",
    "\n",
    "curl_of_field = curl(F1)\n",
    "\n",
    "if curl_of_field == Vector.zero:\n",
    "    Integral  = scalar_potential_difference(F1, sys, P1, Q1)\n",
    "    print('The value of the integral is')\n",
    "Integral\n",
    "\n",
    "if curl_of_field != Vector.zero:\n",
    "    print('The Integral is path dependent')\n",
    "\n",
    "#F1.dot(sys.i)\n",
    "    \n"
   ]
  },
  {
   "cell_type": "markdown",
   "metadata": {},
   "source": [
    "### 3) Evaluate the integral $\\int$ F. ndA  for the given data. Describe the kind of surface. Show the details of your work. F= [-x$^{2}$, y$^{2}$, 0], S: r= [u, v, 3u-2v], 0≤u ≤1.5; -2≤v ≤2 "
   ]
  },
  {
   "cell_type": "code",
   "execution_count": 18,
   "metadata": {},
   "outputs": [
    {
     "data": {
      "text/latex": [
       "$\\displaystyle 29.5$"
      ],
      "text/plain": [
       "29.5000000000000"
      ]
     },
     "execution_count": 18,
     "metadata": {},
     "output_type": "execute_result"
    }
   ],
   "source": [
    "#Define the surface and plot it\n",
    "from sympy.abc import u ,v \n",
    "from sympy.plotting import plot3d\n",
    "\n",
    "#Field\n",
    "F = -1*sys.x**2*sys.i+sys.y**2*sys.j\n",
    "\n",
    "#Definition of the parametric region\n",
    "region_para = ParametricRegion((u, v, 3*u - 2*v), (u, 0, 1.5),(v,-2,2))\n",
    "region_para\n",
    "\n",
    "#plotting\n",
    "#u, v = symbols('u v')\n",
    "#plot3d(3*u - 2*v, (u, 0, 1.5),(v,-2,2))\n",
    "Integral_1 = vector_integrate(F,region_para)\n",
    "Integral_1"
   ]
  },
  {
   "cell_type": "markdown",
   "metadata": {},
   "source": [
    "### 4) Application of Stoke's theorem: Calculate the line integral   ∮  F.r′ ds by Stokes’s theorem for the given F and C. Assume the Cartesian coordinates to be right-handed and the z-component of the surface normal to be nonnegative. F = [-5y, 4x, z], C the circle C: x$^{2}$ + y$^{2}$=16, z = 4 \n",
    "\n",
    "### Rem:Stokes's theorem says\n",
    "### ∮  F.r′ ds = $\\int$$\\int$(curl F) • n dA."
   ]
  },
  {
   "cell_type": "code",
   "execution_count": 19,
   "metadata": {},
   "outputs": [
    {
     "data": {
      "text/html": [
       "\n",
       "<form action=\"javascript:code_toggle()\"><input type=\"submit\" id=\"toggleButton\" value=\"Show Sloution\"></form>\n"
      ],
      "text/plain": [
       "<IPython.core.display.HTML object>"
      ]
     },
     "metadata": {},
     "output_type": "display_data"
    }
   ],
   "source": [
    "from sympy.vector import curl\n",
    "\n",
    "F  = -5*sys.y*sys.i + 4*sys.x*sys.j + sys.z*sys.k\n",
    "curve = ParametricRegion((4*cos(theta), 4*sin(theta)), (theta, 0, 2*pi))\n",
    "surface = ParametricRegion((r*cos(theta), r*sin(theta)), (r, 0, 4), (theta, 0, 2*pi))\n",
    "\n"
   ]
  },
  {
   "cell_type": "code",
   "execution_count": 24,
   "metadata": {},
   "outputs": [
    {
     "data": {
      "text/html": [
       "\n",
       "<form action=\"javascript:code_toggle()\"><input type=\"submit\" id=\"toggleButton\" value=\"Show Sloution\"></form>\n"
      ],
      "text/plain": [
       "<IPython.core.display.HTML object>"
      ]
     },
     "metadata": {},
     "output_type": "display_data"
    }
   ],
   "source": [
    "vector_integrate(F, curve)"
   ]
  },
  {
   "cell_type": "code",
   "execution_count": 25,
   "metadata": {},
   "outputs": [
    {
     "data": {
      "text/html": [
       "\n",
       "<form action=\"javascript:code_toggle()\"><input type=\"submit\" id=\"toggleButton\" value=\"Show Sloution\"></form>\n"
      ],
      "text/plain": [
       "<IPython.core.display.HTML object>"
      ]
     },
     "metadata": {},
     "output_type": "display_data"
    }
   ],
   "source": [
    "vector_integrate(curl(F), surface)\n"
   ]
  },
  {
   "cell_type": "code",
   "execution_count": null,
   "metadata": {},
   "outputs": [],
   "source": []
  }
 ],
 "metadata": {
  "kernelspec": {
   "display_name": "Python 3",
   "language": "python",
   "name": "python3"
  },
  "language_info": {
   "codemirror_mode": {
    "name": "ipython",
    "version": 3
   },
   "file_extension": ".py",
   "mimetype": "text/x-python",
   "name": "python",
   "nbconvert_exporter": "python",
   "pygments_lexer": "ipython3",
   "version": "3.8.5"
  }
 },
 "nbformat": 4,
 "nbformat_minor": 5
}
