{
 "cells": [
  {
   "cell_type": "code",
   "execution_count": 1,
   "metadata": {},
   "outputs": [],
   "source": [
    "import numpy as np\n",
    "from scipy.optimize import fsolve"
   ]
  },
  {
   "cell_type": "code",
   "execution_count": 2,
   "metadata": {},
   "outputs": [],
   "source": [
    "def Heun(function,y,t,**kwargs):\n",
    "    args=kwargs['args']\n",
    "    res=np.zeros((len(t),len(y)))\n",
    "    time_old=0\n",
    "    res[0]=y\n",
    "    \n",
    "    for time in range(1,len(t)):\n",
    "        r_tilde=np.add(res[time-1],np.multiply((t[time]-time_old),function(res[time-1],t[time-1],*args)))\n",
    "        res[time]=np.add(res[time-1],(t[time]-time_old)*0.5*np.add(function(res[time-1],t[time-1],*args),function(r_tilde,t[time],*args)))\n",
    "        time_old=t[time]\n",
    "    return res"
   ]
  },
  {
   "cell_type": "code",
   "execution_count": 3,
   "metadata": {},
   "outputs": [],
   "source": [
    "def Implicit_Euler(func,X,t,**kwargs):\n",
    "    args=kwargs['args']\n",
    "    res=np.zeros((len(t),len(X)))\n",
    "    time_old=0\n",
    "    res[0]=X\n",
    "    for time in range(1,len(t)):\n",
    "        dt=t[time]-time_old\n",
    "        func_solve=lambda X:np.add((X-res[time-1]),np.multiply(-dt,(func(X,t,*args))))\n",
    "        res[time]=fsolve(func_solve,res[time-1])\n",
    "        time_old=t[time]\n",
    "    return res\n",
    "        "
   ]
  },
  {
   "cell_type": "code",
   "execution_count": 4,
   "metadata": {},
   "outputs": [],
   "source": [
    "def Implicit_RK2(func, X, t, **kwargs):\n",
    "    args = kwargs[\"args\"]\n",
    "    res = np.zeros((len(t),len(X)))\n",
    "    time_old = 0\n",
    "    res[0] = X\n",
    "    for time in range(1,len(t)):\n",
    "        dt = t[time]-time_old\n",
    "        func_solve = lambda X:np.add((X - res[time-1]), np.multiply(-0.5*dt,(func(X,t,*args))))\n",
    "        res[time] = fsolve(func_solve,res[time-1])\n",
    "        res[time] = np.add(res[time-1],np.multiply(dt,func(res[time],t,*args)))\n",
    "        time_old = t[time]\n",
    "    return res"
   ]
  },
  {
   "cell_type": "code",
   "execution_count": 1,
   "metadata": {},
   "outputs": [],
   "source": [
    "def Heun_withoutargs(function, y, t,**kwargs):\n",
    "    if (bool(kwargs)):\n",
    "     args = kwargs[\"args\"]\n",
    "    else:\n",
    "     args = ()\n",
    "    res = np.zeros((len(t),len(y)))\n",
    "    time_old = 0\n",
    "    res[0] = y\n",
    "   \n",
    "    for time in range(1,len(t)):\n",
    "        r_tilde   = np.add(res[time-1],np.multiply((t[time]-time_old),function(res[time-1],t[time-1],*args)))\n",
    "        res[time] = np.add(res[time-1],(t[time]-time_old)*0.5*np.add(function(res[time-1],t[time-1],*args),function(r_tilde,t[time],*args)))\n",
    "        time_old  = t[time]\n",
    "    return res"
   ]
  },
  {
   "cell_type": "code",
   "execution_count": null,
   "metadata": {},
   "outputs": [],
   "source": []
  }
 ],
 "metadata": {
  "kernelspec": {
   "display_name": "Python 3",
   "language": "python",
   "name": "python3"
  },
  "language_info": {
   "codemirror_mode": {
    "name": "ipython",
    "version": 3
   },
   "file_extension": ".py",
   "mimetype": "text/x-python",
   "name": "python",
   "nbconvert_exporter": "python",
   "pygments_lexer": "ipython3",
   "version": "3.8.5"
  }
 },
 "nbformat": 4,
 "nbformat_minor": 4
}
