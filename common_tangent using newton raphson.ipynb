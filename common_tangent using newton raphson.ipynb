{
 "cells": [
  {
   "cell_type": "code",
   "execution_count": 1,
   "metadata": {},
   "outputs": [],
   "source": [
    "import numpy as np\n",
    "import matplotlib.pyplot as plt\n",
    "from scipy.optimize import fsolve\n",
    "from ipynb.fs.full.NewtonRaph_function_new import Newton_Raphson1"
   ]
  },
  {
   "cell_type": "code",
   "execution_count": 2,
   "metadata": {},
   "outputs": [],
   "source": [
    "def f(X,alpha,beta,gamma,delta):\n",
    "    x = X[0]\n",
    "    y = X[1]\n",
    "    res = np.zeros(len(X))\n",
    "    res[0] = 2*(x-alpha)+beta-2*(y-delta)\n",
    "    res[1] = (x-alpha)**2+beta*x+gamma-(x*(2*(x-alpha)+beta))-(y-delta)**2 +(2*y*(y-delta))\n",
    "    return res"
   ]
  },
  {
   "cell_type": "markdown",
   "metadata": {},
   "source": [
    "gs= (c-alpha)**2 +beta*c+gamma\n",
    "gl= (c-delta)**2"
   ]
  },
  {
   "cell_type": "code",
   "execution_count": 3,
   "metadata": {},
   "outputs": [],
   "source": [
    "def J(X,alpha, beta,gamma,delta):\n",
    "    x = X[0]\n",
    "    y=  X[1]\n",
    "    dfdx_res       = np.zeros((len(X),len(X)))\n",
    "    dfdx_res[0][0] = 2\n",
    "    dfdx_res[0][1] =-2\n",
    "    dfdx_res[1][0] = -2*x\n",
    "    dfdx_res[1][1] = 2*y\n",
    "    return dfdx_res"
   ]
  },
  {
   "cell_type": "code",
   "execution_count": 4,
   "metadata": {},
   "outputs": [],
   "source": [
    "alpha = 0.5\n",
    "beta = 0.5\n",
    "gamma=1\n",
    "delta=0.1\n",
    "X = [1,3]\n",
    "max_iter = 20\n",
    "tol = 1e-15"
   ]
  },
  {
   "cell_type": "code",
   "execution_count": 5,
   "metadata": {},
   "outputs": [
    {
     "name": "stdout",
     "output_type": "stream",
     "text": [
      "Iteration 1:x[0]=1.915:f[0]=-4.3\n",
      "Iteration 1:x[1]=1.7650000000000003:f[1]=9.239999999999998\n",
      "Iteration 2:x[0]=4.2083333333333375:f[0]=-4.440892098500626e-16\n",
      "Iteration 2:x[1]=4.058333333333338:f[1]=0.6880000000000015\n",
      "Iteration 3:x[0]=4.208333333333325:f[0]=-8.881784197001252e-16\n",
      "Iteration 3:x[1]=4.058333333333326:f[1]=0.0\n"
     ]
    }
   ],
   "source": [
    "sol = Newton_Raphson1(f,J,X,max_iter,tol,args=(alpha,beta,gamma,delta))"
   ]
  },
  {
   "cell_type": "code",
   "execution_count": 6,
   "metadata": {},
   "outputs": [
    {
     "name": "stdout",
     "output_type": "stream",
     "text": [
      "[4.20833333 4.05833333]\n"
     ]
    }
   ],
   "source": [
    "print(sol)"
   ]
  },
  {
   "cell_type": "code",
   "execution_count": 7,
   "metadata": {},
   "outputs": [],
   "source": [
    "sol1=fsolve(f,X,args=(alpha,beta,gamma,delta))"
   ]
  },
  {
   "cell_type": "code",
   "execution_count": 8,
   "metadata": {},
   "outputs": [
    {
     "name": "stdout",
     "output_type": "stream",
     "text": [
      "[4.20833333 4.05833333]\n"
     ]
    }
   ],
   "source": [
    "print(sol1)"
   ]
  },
  {
   "cell_type": "code",
   "execution_count": null,
   "metadata": {},
   "outputs": [],
   "source": []
  }
 ],
 "metadata": {
  "kernelspec": {
   "display_name": "Python 3",
   "language": "python",
   "name": "python3"
  },
  "language_info": {
   "codemirror_mode": {
    "name": "ipython",
    "version": 3
   },
   "file_extension": ".py",
   "mimetype": "text/x-python",
   "name": "python",
   "nbconvert_exporter": "python",
   "pygments_lexer": "ipython3",
   "version": "3.8.5"
  }
 },
 "nbformat": 4,
 "nbformat_minor": 4
}
