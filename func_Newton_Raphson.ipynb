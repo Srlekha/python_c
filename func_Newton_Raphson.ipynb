{
 "cells": [
  {
   "cell_type": "code",
   "execution_count": 1,
   "metadata": {},
   "outputs": [],
   "source": [
    "import numpy as np\n",
    "import matplotlib.pyplot as plt\n",
    "from numpy import linalg as LA"
   ]
  },
  {
   "cell_type": "code",
   "execution_count": 2,
   "metadata": {},
   "outputs": [],
   "source": [
    "def Newton_Raphson(f,J,X,max_iter,tol,**kwargs):\n",
    "    args = kwargs[\"args\"]\n",
    "    #max_iter = 20  # Max iterations\n",
    "    #tol = 1E-15  # Tolerance\n",
    "    i = 0  # Iteration counter\n",
    "    f_vec = np.zeros(X)\n",
    "    J_mat = np.zeros((len(X),len(X)))\n",
    "    while (LA.norm(f_vec) > tol) or i!=0: #La.norm is the diftance between f_vec from origin\n",
    "        i     = i + 1\n",
    "        f_vec = f(X,*args)\n",
    "        J_mat = J(X,*args)\n",
    "        X     = np.add(X, - np.multiply(LA.inv(J_mat),f_vec))\n",
    "        if (i > 0):\n",
    "            for var in range(0,len(f_vec)):\n",
    "                print('Iteration ' + str(i) + ':x' + str([var]) + '=' + str(X[var]) + ':f' + str([var]) + '=' + str(f_vec[var]))"
   ]
  },
  {
   "cell_type": "code",
   "execution_count": null,
   "metadata": {},
   "outputs": [],
   "source": []
  }
 ],
 "metadata": {
  "kernelspec": {
   "display_name": "Python 3",
   "language": "python",
   "name": "python3"
  },
  "language_info": {
   "codemirror_mode": {
    "name": "ipython",
    "version": 3
   },
   "file_extension": ".py",
   "mimetype": "text/x-python",
   "name": "python",
   "nbconvert_exporter": "python",
   "pygments_lexer": "ipython3",
   "version": "3.8.5"
  }
 },
 "nbformat": 4,
 "nbformat_minor": 4
}
